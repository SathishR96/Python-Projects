{
 "cells": [
  {
   "cell_type": "code",
   "execution_count": 34,
   "metadata": {},
   "outputs": [
    {
     "name": "stdout",
     "output_type": "stream",
     "text": [
      "The ['Ace'] of ['Hearts']\n"
     ]
    }
   ],
   "source": [
    "import random\n",
    "cards=['spades','diamonds','clubs','Hearts']\n",
    "number=[1,2,3,4,5,6,7,8,9,'Jack','Queen','King','Ace']\n",
    "y=random.choices(cards)\n",
    "x=random.choices(number)\n",
    "print(\"The {} of {}\".format(x,y))"
   ]
  }
 ],
 "metadata": {
  "kernelspec": {
   "display_name": "Python 3",
   "language": "python",
   "name": "python3"
  },
  "language_info": {
   "codemirror_mode": {
    "name": "ipython",
    "version": 3
   },
   "file_extension": ".py",
   "mimetype": "text/x-python",
   "name": "python",
   "nbconvert_exporter": "python",
   "pygments_lexer": "ipython3",
   "version": "3.8.5"
  }
 },
 "nbformat": 4,
 "nbformat_minor": 4
}
