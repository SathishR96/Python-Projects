{
 "cells": [
  {
   "cell_type": "markdown",
   "metadata": {},
   "source": [
    "                   JOINING AND SORTING MULTIPLE LIST"
   ]
  },
  {
   "cell_type": "code",
   "execution_count": 1,
   "metadata": {},
   "outputs": [
    {
     "data": {
      "text/plain": [
       "[2, 3, 4, 7, 8, 9, 10, 11, 13, 19, 23, 49, 81, 87, 331, 1213]"
      ]
     },
     "execution_count": 1,
     "metadata": {},
     "output_type": "execute_result"
    }
   ],
   "source": [
    "a=[8,4,3,7,9,10,23,11,331]\n",
    "b=[1213,2,13,49,87,81,19]\n",
    "x=[]\n",
    "for i in a:\n",
    "    x.append(i)\n",
    "    i=i+1\n",
    "for j in b:\n",
    "    x.append(j)\n",
    "    j=j+1\n",
    "sorted(x)"
   ]
  }
 ],
 "metadata": {
  "kernelspec": {
   "display_name": "Python 3",
   "language": "python",
   "name": "python3"
  },
  "language_info": {
   "codemirror_mode": {
    "name": "ipython",
    "version": 3
   },
   "file_extension": ".py",
   "mimetype": "text/x-python",
   "name": "python",
   "nbconvert_exporter": "python",
   "pygments_lexer": "ipython3",
   "version": "3.8.5"
  }
 },
 "nbformat": 4,
 "nbformat_minor": 4
}
