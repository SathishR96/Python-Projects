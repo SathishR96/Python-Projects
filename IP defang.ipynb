{
 "cells": [
  {
   "cell_type": "markdown",
   "metadata": {},
   "source": [
    "                   IP Defang"
   ]
  },
  {
   "cell_type": "code",
   "execution_count": 1,
   "metadata": {},
   "outputs": [
    {
     "name": "stdout",
     "output_type": "stream",
     "text": [
      "172[.]19[.]20[.]20\n"
     ]
    }
   ],
   "source": [
    "def ip_address(ip):\n",
    "    new_ip=''\n",
    "    split_ip=ip.split('.')\n",
    "    seperator='[.]'\n",
    "    new_ip=seperator.join(split_ip)\n",
    "    return new_ip\n",
    "n=ip_address('172.19.20.20')  \n",
    "print(n)"
   ]
  }
 ],
 "metadata": {
  "kernelspec": {
   "display_name": "Python 3",
   "language": "python",
   "name": "python3"
  },
  "language_info": {
   "codemirror_mode": {
    "name": "ipython",
    "version": 3
   },
   "file_extension": ".py",
   "mimetype": "text/x-python",
   "name": "python",
   "nbconvert_exporter": "python",
   "pygments_lexer": "ipython3",
   "version": "3.8.5"
  }
 },
 "nbformat": 4,
 "nbformat_minor": 4
}
