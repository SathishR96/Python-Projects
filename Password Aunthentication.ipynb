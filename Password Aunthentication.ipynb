{
 "cells": [
  {
   "cell_type": "markdown",
   "metadata": {},
   "source": [
    "                PassWord Authentication"
   ]
  },
  {
   "cell_type": "code",
   "execution_count": 4,
   "metadata": {},
   "outputs": [
    {
     "name": "stdout",
     "output_type": "stream",
     "text": [
      "Enter your username: nijanthan\n",
      "Enter the password········\n",
      "Verified\n"
     ]
    }
   ],
   "source": [
    "import getpass\n",
    "dic={'nijanthan':'Welcome@01','sathish':'password@12'}\n",
    "use=input('Enter your username: ')\n",
    "y=getpass.getpass(\"Enter the password\")\n",
    "for i in dic.keys():\n",
    "    if use==i:\n",
    "        while y != dic.get(i):\n",
    "            y = getpass.getpass(\"Enter Your Password Again : \")\n",
    "        break\n",
    "print(\"Verified\")   "
   ]
  }
 ],
 "metadata": {
  "kernelspec": {
   "display_name": "Python 3",
   "language": "python",
   "name": "python3"
  },
  "language_info": {
   "codemirror_mode": {
    "name": "ipython",
    "version": 3
   },
   "file_extension": ".py",
   "mimetype": "text/x-python",
   "name": "python",
   "nbconvert_exporter": "python",
   "pygments_lexer": "ipython3",
   "version": "3.8.5"
  }
 },
 "nbformat": 4,
 "nbformat_minor": 4
}
